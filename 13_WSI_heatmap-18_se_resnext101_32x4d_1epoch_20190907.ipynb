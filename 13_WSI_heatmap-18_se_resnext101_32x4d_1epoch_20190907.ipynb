{
 "cells": [
  {
   "cell_type": "markdown",
   "metadata": {},
   "source": [
    "**This notebook trains and evaluates the baseline model**"
   ]
  },
  {
   "cell_type": "code",
   "execution_count": 2,
   "metadata": {},
   "outputs": [
    {
     "name": "stdout",
     "output_type": "stream",
     "text": [
      "env: CUDA_DEVICE_ORDER=PCI_BUS_ID\n",
      "env: CUDA_VISIBLE_DEVICES=1\n"
     ]
    }
   ],
   "source": [
    "%env CUDA_DEVICE_ORDER=PCI_BUS_ID\n",
    "%env CUDA_VISIBLE_DEVICES=1"
   ]
  },
  {
   "cell_type": "code",
   "execution_count": 3,
   "metadata": {},
   "outputs": [],
   "source": [
    "import numpy as np\n",
    "import pandas as pd\n",
    "import os\n",
    "from tqdm import tqdm_notebook\n",
    "import sys\n",
    "from sklearn.metrics import roc_auc_score\n",
    "import cv2\n",
    "import albumentations\n",
    "from fastai import *\n",
    "from fastai.vision import *\n",
    "from fastai.vision import models\n",
    "from fastai.callbacks import SaveModelCallback\n",
    "\n",
    "from fastai.torch_core import flatten_model\n",
    "from torchvision.models import *\n",
    "import pretrainedmodels"
   ]
  },
  {
   "cell_type": "code",
   "execution_count": 4,
   "metadata": {},
   "outputs": [],
   "source": [
    "def arch_summary(arch):\n",
    "    model = arch(False)\n",
    "    tot = 0\n",
    "    for i, l in enumerate(model.children()):\n",
    "        n_layers = len(flatten_model(l))\n",
    "        tot += n_layers\n",
    "        print(f'({i}) {l.__class__.__name__:<12}: {n_layers:<4}layers (total: {tot})')\n",
    "\n",
    "def get_groups(model, layer_groups):\n",
    "    group_indices = [len(g) for g in layer_groups]\n",
    "    curr_i = 0\n",
    "    group = []\n",
    "    for layer in model:\n",
    "        group_indices[curr_i] -= len(flatten_model(layer))\n",
    "        group.append(layer.__class__.__name__)\n",
    "        if group_indices[curr_i] == 0:\n",
    "            curr_i += 1\n",
    "            print(f'Group {curr_i}:', group)   \n",
    "            group = []\n",
    "        \n",
    "class FakeData:\n",
    "    def __init__(self):\n",
    "        self.c = 2\n",
    "        self.path = ''    \n",
    "        self.device = None\n",
    "        self.loss_func = CrossEntropyFlat(axis=1)"
   ]
  },
  {
   "cell_type": "code",
   "execution_count": 5,
   "metadata": {},
   "outputs": [],
   "source": [
    "# we wrap cadene model to pytorch models format\n",
    "def se_resnext101_32x4d(pretrained=True):\n",
    "    pretrained = 'imagenet' if pretrained else None\n",
    "    model = pretrainedmodels.__dict__['se_resnext101_32x4d'](pretrained=pretrained)\n",
    "    all_layers = list(model.children())\n",
    "    return nn.Sequential(*all_layers)"
   ]
  },
  {
   "cell_type": "code",
   "execution_count": 6,
   "metadata": {},
   "outputs": [
    {
     "name": "stdout",
     "output_type": "stream",
     "text": [
      "(0) Sequential  : 4   layers (total: 4)\n",
      "(1) Sequential  : 38  layers (total: 42)\n",
      "(2) Sequential  : 50  layers (total: 92)\n",
      "(3) Sequential  : 278 layers (total: 370)\n",
      "(4) Sequential  : 38  layers (total: 408)\n",
      "(5) AvgPool2d   : 1   layers (total: 409)\n",
      "(6) Linear      : 1   layers (total: 410)\n"
     ]
    }
   ],
   "source": [
    "arch_summary(se_resnext101_32x4d)"
   ]
  },
  {
   "cell_type": "markdown",
   "metadata": {},
   "source": [
    "Training parameters"
   ]
  },
  {
   "cell_type": "code",
   "execution_count": 7,
   "metadata": {},
   "outputs": [],
   "source": [
    "BATCH_SIZE = 64\n",
    "sz = 256\n",
    "NUM_WORKERS = 16\n",
    "model_name = '20190825-18-se_resnext101_32x4d_Test'"
   ]
  },
  {
   "cell_type": "markdown",
   "metadata": {},
   "source": [
    "Use data augmentations that mimic the hue and color saturation variance caused by the different scanning instruments and staining procedures."
   ]
  },
  {
   "cell_type": "code",
   "execution_count": 8,
   "metadata": {},
   "outputs": [],
   "source": [
    "import random\n",
    "\n",
    "def randomizeStaining(img, Io=240, alpha=1, beta=0.15, maxC1=None, maxC2=None):\n",
    "    ''' Randomize staining appearence of H&E stained images\n",
    "    \n",
    "    Input:\n",
    "        I: RGB input image\n",
    "        Io: (optional) transmitted light intensity\n",
    "    \n",
    "    Reference: \n",
    "        A method for normalizing histology slides for quantitative analysis. M.\n",
    "        Macenko et al., ISBI 2009\n",
    "    '''\n",
    "             \n",
    "    HERef = np.array([[0.5626, 0.2159],\n",
    "                      [0.7201, 0.8012],\n",
    "                      [0.4062, 0.5581]])\n",
    "        \n",
    "    ε = 0.10\n",
    "    θ = 4.0\n",
    "    maxCRef = np.random.uniform(size=2) * θ + ε\n",
    "    if maxC1 is not None:\n",
    "        maxCRef[0] = maxC1\n",
    "    if maxC2 is not None:\n",
    "        maxCRef[1] = maxC2\n",
    "    \n",
    "    # define height and width of image\n",
    "    h, w, c = img.shape\n",
    "    \n",
    "    # reshape image\n",
    "    img = img.reshape((-1,3))\n",
    "\n",
    "    # calculate optical density\n",
    "    OD = -np.log((img.astype(np.float)+1)/Io)\n",
    "    \n",
    "    # remove transparent pixels\n",
    "    ODhat = OD[~np.any(OD<beta, axis=1)]\n",
    "        \n",
    "    # compute eigenvectors\n",
    "    eigvals, eigvecs = None,None\n",
    "    try:\n",
    "        eigvals, eigvecs = np.linalg.eigh(np.cov(ODhat.T))\n",
    "    except AssertionError:\n",
    "        return img.reshape(sz,sz,3)\n",
    "    except np.linalg.LinAlgError:\n",
    "        return img.reshape(sz,sz,3)\n",
    "    \n",
    "    #project on the plane spanned by the eigenvectors corresponding to the two \n",
    "    # largest eigenvalues    \n",
    "    That = ODhat.dot(eigvecs[:,1:3])\n",
    "    \n",
    "    phi = np.arctan2(That[:,1],That[:,0])\n",
    "    \n",
    "    minPhi = np.percentile(phi, alpha)\n",
    "    maxPhi = np.percentile(phi, 100-alpha)\n",
    "    \n",
    "    vMin = eigvecs[:,1:3].dot(np.array([(np.cos(minPhi), np.sin(minPhi))]).T)\n",
    "    vMax = eigvecs[:,1:3].dot(np.array([(np.cos(maxPhi), np.sin(maxPhi))]).T)\n",
    "    \n",
    "    # a heuristic to make the vector corresponding to hematoxylin first and the \n",
    "    # one corresponding to eosin second\n",
    "    if vMin[0] > vMax[0]:\n",
    "        HE = np.array((vMin[:,0], vMax[:,0])).T\n",
    "    else:\n",
    "        HE = np.array((vMax[:,0], vMin[:,0])).T\n",
    "    \n",
    "    # rows correspond to channels (RGB), columns to OD values\n",
    "    Y = np.reshape(OD, (-1, 3)).T\n",
    "    \n",
    "    # determine concentrations of the individual stains\n",
    "    C = np.linalg.lstsq(HE,Y, rcond=None)[0]\n",
    "    \n",
    "    # normalize stain concentrations\n",
    "    maxC = np.array([np.percentile(C[0,:], 99), np.percentile(C[1,:],99)])\n",
    "    \n",
    "    tmp = np.divide(maxC,maxCRef)\n",
    "    C2 = np.divide(C,tmp[:, np.newaxis])\n",
    "    \n",
    "    # recreate the image using reference mixing matrix\n",
    "    Inorm = np.multiply(Io, np.exp(-HERef.dot(C2)))\n",
    "    Inorm[Inorm>255] = 254\n",
    "    Inorm = np.reshape(Inorm.T, (h, w, 3)).astype(np.uint8)\n",
    "    \n",
    "    return Inorm"
   ]
  },
  {
   "cell_type": "code",
   "execution_count": 9,
   "metadata": {},
   "outputs": [],
   "source": [
    "albumentations_transform = albumentations.Compose([\n",
    "    # flips and 90deg rotates\n",
    "    albumentations.RandomRotate90(p=0.5),\n",
    "    albumentations.Flip(p=0.5),\n",
    "    \n",
    "    # brightness contrast or gamma\n",
    "    albumentations.OneOf([\n",
    "        albumentations.RandomBrightnessContrast(brightness_limit=0.2, contrast_limit=0.2, p=1),\n",
    "        albumentations.RandomGamma(gamma_limit=(60, 200), always_apply=True, p=1),\n",
    "    ],p=1.0),\n",
    "    \n",
    "    # scale\n",
    "    #albumentations.ShiftScaleRotate(shift_limit=0.1, scale_limit=[-0.1,0.1], rotate_limit=10, p=0.5),\n",
    "    \n",
    "    # color alterations\n",
    "    albumentations.OneOf([\n",
    "        albumentations.augmentations.transforms.HueSaturationValue(hue_shift_limit=30, sat_shift_limit=30, val_shift_limit=20, always_apply=True),\n",
    "        albumentations.augmentations.transforms.RGBShift(r_shift_limit=30, g_shift_limit=15, b_shift_limit=30, always_apply=True),\n",
    "        albumentations.augmentations.transforms.CLAHE(p=1),\n",
    "        #albumentations.augmentations.transforms.ChannelShuffle()\n",
    "    ],p=0.8),\n",
    "    \n",
    "    # Blurring or noise\n",
    "    albumentations.OneOf([\n",
    "        albumentations.GaussNoise(p=0.2),\n",
    "        albumentations.augmentations.transforms.Blur(p=0.2)\n",
    "    ],p=1.0),\n",
    "])\n",
    "\n",
    "albumentations_transform_validation = albumentations.Compose([\n",
    "    #albumentations.RandomRotate90(p=0.5),\n",
    "    #albumentations.Transpose(p=0.5),\n",
    "])"
   ]
  },
  {
   "cell_type": "markdown",
   "metadata": {},
   "source": [
    "Custom image lists"
   ]
  },
  {
   "cell_type": "code",
   "execution_count": 10,
   "metadata": {},
   "outputs": [],
   "source": [
    "class CustomImageList(ItemList):\n",
    "    \"`ItemList` suitable for computer vision that uses augmentations for training items but not for validation items\"\n",
    "    _bunch,_square_show,_square_show_res = ImageDataBunch,True,True\n",
    "    def __init__(self, *args, df_copy=None, validation_colname=\"\", data_dir='',data_suffix='', convert_mode='RGB', after_open:Callable=None, **kwargs):\n",
    "        super().__init__(*args, **kwargs)\n",
    "        self.df_copy,self.validation_colname,self.data_dir,self.data_suffix, self.convert_mode,self.after_open = df_copy,validation_colname,data_dir,data_suffix,convert_mode,after_open\n",
    "        if(df_copy is None):\n",
    "            print('Empty df copy')\n",
    "        self.copy_new.append('df_copy')\n",
    "        self.copy_new.append('validation_colname')\n",
    "        self.copy_new.append('data_dir')\n",
    "        self.copy_new.append('data_suffix')\n",
    "        self.copy_new.append('convert_mode')\n",
    "        self.c,self.sizes = 3,{}\n",
    "\n",
    "    def get(self, i):\n",
    "        fn = super().get(i)\n",
    "        res = self.open(fn)\n",
    "        self.sizes[i] = res.size\n",
    "        return res\n",
    "    \n",
    "    def open(self, fn)->Image:\n",
    "        img = cv2.imread(fn)\n",
    "        # Apply transformations\n",
    "        img = img if (self.df_copy.loc[int(fn.strip(self.data_dir).replace(self.data_suffix, ''))][self.validation_colname]).any() else randomizeStaining(img)\n",
    "        augmented = albumentations_transform_validation(image=img) if (self.df_copy.loc[int(fn.strip(self.data_dir).replace(self.data_suffix, ''))][self.validation_colname]).any() else albumentations_transform(image=img)\n",
    "        # Convert numpy array to tensor\n",
    "        return vision.Image(px=pil2tensor(augmented['image']/255., np.float32))\n",
    "    \n",
    "    @classmethod\n",
    "    def from_df_custom(cls, df:DataFrame, path:PathOrStr, cols:IntsOrStrs=0, folder:PathOrStr=None, suffix:str='', **kwargs)->'ItemList':\n",
    "        \"Get the filenames in `cols` of `df` with `folder` in front of them, `suffix` at the end.\"\n",
    "        suffix = suffix or ''\n",
    "        res = super().from_df(df, path=path, cols=cols, **kwargs, data_dir=path, data_suffix=suffix)\n",
    "        pref = f'{res.path}{os.path.sep}'\n",
    "        if folder is not None: pref += f'{folder}{os.path.sep}'\n",
    "        res.items = np.char.add(np.char.add(pref, res.items.astype(str)), suffix)\n",
    "        return res\n",
    "    \n",
    "    def reconstruct(self, t:Tensor): return Image(t.float().clamp(min=0,max=1))\n",
    "\n",
    "    def show_xys(self, xs, ys, imgsize:int=4, figsize:Optional[Tuple[int,int]]=None, **kwargs):\n",
    "        \"Show the `xs` (inputs) and `ys` (targets) on a figure of `figsize`.\"\n",
    "        rows = int(np.ceil(math.sqrt(len(xs))))\n",
    "        axs = subplots(rows, rows, imgsize=imgsize, figsize=figsize)\n",
    "        for x,y,ax in zip(xs, ys, axs.flatten()): x.show(ax=ax, y=y, **kwargs)\n",
    "        for ax in axs.flatten()[len(xs):]: ax.axis('off')\n",
    "        plt.tight_layout()\n",
    "\n",
    "    def show_xyzs(self, xs, ys, zs, imgsize:int=4, figsize:Optional[Tuple[int,int]]=None, **kwargs):\n",
    "        \"Show `xs` (inputs), `ys` (targets) and `zs` (predictions) on a figure of `figsize`.\"\n",
    "        if self._square_show_res:\n",
    "            title = 'Ground truth\\nPredictions'\n",
    "            rows = int(np.ceil(math.sqrt(len(xs))))\n",
    "            axs = subplots(rows, rows, imgsize=imgsize, figsize=figsize, title=title, weight='bold', size=12)\n",
    "            for x,y,z,ax in zip(xs,ys,zs,axs.flatten()): x.show(ax=ax, title=f'{str(y)}\\n{str(z)}', **kwargs)\n",
    "            for ax in axs.flatten()[len(xs):]: ax.axis('off')\n",
    "        else:\n",
    "            title = 'Ground truth/Predictions'\n",
    "            axs = subplots(len(xs), 2, imgsize=imgsize, figsize=figsize, title=title, weight='bold', size=14)\n",
    "            for i,(x,y,z) in enumerate(zip(xs,ys,zs)):\n",
    "                x.show(ax=axs[i,0], y=y, **kwargs)\n",
    "                x.show(ax=axs[i,1], y=z, **kwargs)"
   ]
  },
  {
   "cell_type": "code",
   "execution_count": 11,
   "metadata": {},
   "outputs": [],
   "source": [
    "def getDataBunch(fold_index = 0):\n",
    "    df = pd.read_csv('data/training/center_4.csv').set_index('Unnamed: 0').set_index('patchId',drop=False)\n",
    "    df['is_valid'] = True # set validation to True to avoid augmentations\n",
    "    # Create ImageDataBunch using fastai data block API\n",
    "    return (CustomImageList.from_df_custom(path='data/test_patches/',\n",
    "                                            df=df,\n",
    "                                            suffix='_0.png', \n",
    "                                            df_copy=df, \n",
    "                                            validation_colname='is_valid')\n",
    "                    .split_none()\n",
    "                    #How to split in train/valid? CV index\n",
    "                    .label_from_df(cols='tumorLabel')\n",
    "                    #Where are the labels?\n",
    "                    .transform(tfms=[[],[]], size=sz)\n",
    "                    # We have our custom transformations implemented in the image loader but we could apply transformations also here\n",
    "                    # Even though we don't apply transformations here, we set two empty lists to tfms. Train and Validation augmentations\n",
    "                    .databunch(bs=BATCH_SIZE, num_workers=NUM_WORKERS)\n",
    "                    # convert to databunch\n",
    "                    .normalize(imagenet_stats))"
   ]
  },
  {
   "cell_type": "markdown",
   "metadata": {},
   "source": [
    "### Inference"
   ]
  },
  {
   "cell_type": "code",
   "execution_count": 12,
   "metadata": {},
   "outputs": [],
   "source": [
    "def getLearner(dataBunch):\n",
    "    learner =  cnn_learner(dataBunch,\n",
    "                           se_resnext101_32x4d,\n",
    "                           pretrained=True,\n",
    "                           path='.',\n",
    "                           metrics=[accuracy],\n",
    "                           ps=0.9,\n",
    "                           callback_fns=ShowGraph)\n",
    "\n",
    "    learner.crit=nn.BCEWithLogitsLoss()\n",
    "    return learner"
   ]
  },
  {
   "cell_type": "code",
   "execution_count": 13,
   "metadata": {},
   "outputs": [],
   "source": [
    "learner = getLearner(getDataBunch(0))"
   ]
  },
  {
   "cell_type": "code",
   "execution_count": 14,
   "metadata": {},
   "outputs": [
    {
     "name": "stdout",
     "output_type": "stream",
     "text": [
      "ROC area of the Test 4 is 0.9638026817831135\n"
     ]
    }
   ],
   "source": [
    "from sklearn.metrics import roc_curve, auc\n",
    "\n",
    "# saved for validation\n",
    "preds_list = []\n",
    "y_list = []\n",
    "\n",
    "tpr_list = []\n",
    "fpr_list = []\n",
    "roc_auc_list = []\n",
    "\n",
    "recorder_stage1_list = []\n",
    "\n",
    "df_inference = pd.read_csv('data/training/center_4.csv').set_index('Unnamed: 0').set_index('patchId',drop=False)\n",
    "\n",
    "# Five times the test fold\n",
    "for fold in range(5):\n",
    "    print(\"##########################\")\n",
    "    print(\"Start Test inference - \" + str(fold))\n",
    "    print(\"##########################\")\n",
    "    \n",
    "    # get fold databunch\n",
    "    fold_databunch = getDataBunch(fold_index=fold)\n",
    "    \n",
    "    # init new learner\n",
    "    learner = getLearner(fold_databunch)\n",
    "    \n",
    "    # load trained weights\n",
    "    learner.load(model_name + '_test' + str(fold) + '_stage-1')\n",
    "    \n",
    "    \n",
    "    # get preds for train set\n",
    "    preds,y = learner.get_preds(ds_type=DatasetType.Fix) # Fix is the training dataset with the last batch included and no shuffle\n",
    "    \n",
    "    #preds_list.append(preds)\n",
    "    #y_list.append(y)  \n",
    "    \n",
    "    # probs from log preds\n",
    "    probs = np.exp(preds[:,1])\n",
    "    # Compute ROC curve\n",
    "    fpr, tpr, thresholds = roc_curve(y, probs, pos_label=1)\n",
    "    \n",
    "    fpr_list.append(fpr)\n",
    "    tpr_list.append(tpr)\n",
    "\n",
    "    # Compute ROC area\n",
    "    roc_auc = auc(fpr, tpr)\n",
    "    print('ROC area of the Test {1} is {0}'.format(roc_auc, fold))\n",
    "    \n",
    "    roc_auc_list.append(roc_auc)\n",
    "    \n",
    "    # write to df\n",
    "    df_inference['tumorProbs_' + str(fold)] = probs\n",
    "df_inference.to_csv('./data/test_inference/' + model_name + '_test' + '_center_4_inference.csv') "
   ]
  },
  {
   "cell_type": "code",
   "execution_count": 15,
   "metadata": {},
   "outputs": [
    {
     "name": "stdout",
     "output_type": "stream",
     "text": [
      "The AUC of the test 0 model is 96.37290752489285 %.\n",
      "The AUC of the test 1 model is 96.69365313650918 %.\n",
      "The AUC of the test 2 model is 95.90144301600724 %.\n",
      "The AUC of the test 3 model is 96.09555607193077 %.\n",
      "The AUC of the test 4 model is 96.38026817831134 %.\n",
      "The average AUC of all tests is 96.28876558553029 %\n",
      "The std (ddof=1) of AUC of all tests is 0.30279333232022154 %\n"
     ]
    }
   ],
   "source": [
    "for fold , auc in enumerate(roc_auc_list):\n",
    "    print('The AUC of the test {1} model is {0} %.'.format(auc*100, fold))\n",
    "print('The average AUC of all tests is {0} %'.format(np.asarray(roc_auc_list).mean()*100))\n",
    "print('The std (ddof=1) of AUC of all tests is {0} %'.format(np.asarray(roc_auc_list).std(ddof=1)*100))"
   ]
  },
  {
   "cell_type": "markdown",
   "metadata": {},
   "source": [
    "## AUC"
   ]
  },
  {
   "cell_type": "code",
   "execution_count": 16,
   "metadata": {},
   "outputs": [
    {
     "data": {
      "text/plain": [
       "<matplotlib.legend.Legend at 0x7f002e44f438>"
      ]
     },
     "execution_count": 16,
     "metadata": {},
     "output_type": "execute_result"
    },
    {
     "data": {
      "image/png": "[encoded data removed]",
      "text/plain": [
       "<Figure size 432x288 with 1 Axes>"
      ]
     },
     "metadata": {
      "needs_background": "light"
     },
     "output_type": "display_data"
    }
   ],
   "source": [
    "plt.figure()\n",
    "color_str = ['darkorange', 'blueviolet', 'firebrick', 'steelblue', 'green']\n",
    "for i, f in enumerate(fpr_list):\n",
    "    plt.plot(fpr_list[i], tpr_list[i], color=color_str[i], label='Fold %d (area = %0.2f)' % (i, roc_auc_list[i]))\n",
    "plt.plot([0, 1], [0, 1], color='navy', linestyle='--', label='random baseline (area = 0.5)')\n",
    "plt.xlim([-0.01, 1.0])\n",
    "plt.ylim([0.0, 1.01])\n",
    "plt.xlabel('False Positive Rate')\n",
    "plt.ylabel('True Positive Rate')\n",
    "plt.title('Receiver operating characteristic')\n",
    "plt.legend(loc=\"lower right\")"
   ]
  },
  {
   "cell_type": "markdown",
   "metadata": {},
   "source": [
    "## Patient level analysis"
   ]
  },
  {
   "cell_type": "code",
   "execution_count": 15,
   "metadata": {},
   "outputs": [
    {
     "data": {
      "text/html": [
       "<div>\n",
       "<style scoped>\n",
       "    .dataframe tbody tr th:only-of-type {\n",
       "        vertical-align: middle;\n",
       "    }\n",
       "\n",
       "    .dataframe tbody tr th {\n",
       "        vertical-align: top;\n",
       "    }\n",
       "\n",
       "    .dataframe thead th {\n",
       "        text-align: right;\n",
       "    }\n",
       "</style>\n",
       "<table border=\"1\" class=\"dataframe\">\n",
       "  <thead>\n",
       "    <tr style=\"text-align: right;\">\n",
       "      <th></th>\n",
       "      <th>patchId</th>\n",
       "      <th>fileName</th>\n",
       "      <th>center</th>\n",
       "      <th>patient</th>\n",
       "      <th>node</th>\n",
       "      <th>centerX</th>\n",
       "      <th>centerY</th>\n",
       "      <th>isTumor</th>\n",
       "      <th>tumorPercentage</th>\n",
       "      <th>tissuePercentage</th>\n",
       "      <th>meanHue</th>\n",
       "      <th>meanSaturation</th>\n",
       "      <th>meanValue</th>\n",
       "      <th>tumorLabel</th>\n",
       "      <th>tumorProbs_0</th>\n",
       "      <th>tumorProbs_1</th>\n",
       "      <th>tumorProbs_2</th>\n",
       "      <th>tumorProbs_3</th>\n",
       "      <th>tumorProbs_4</th>\n",
       "    </tr>\n",
       "    <tr>\n",
       "      <th>patchId</th>\n",
       "      <th></th>\n",
       "      <th></th>\n",
       "      <th></th>\n",
       "      <th></th>\n",
       "      <th></th>\n",
       "      <th></th>\n",
       "      <th></th>\n",
       "      <th></th>\n",
       "      <th></th>\n",
       "      <th></th>\n",
       "      <th></th>\n",
       "      <th></th>\n",
       "      <th></th>\n",
       "      <th></th>\n",
       "      <th></th>\n",
       "      <th></th>\n",
       "      <th></th>\n",
       "      <th></th>\n",
       "      <th></th>\n",
       "    </tr>\n",
       "  </thead>\n",
       "  <tbody>\n",
       "    <tr>\n",
       "      <th>96000017920093952</th>\n",
       "      <td>96000017920093952</td>\n",
       "      <td>data/training/center_4/patient_096_node_1.tif</td>\n",
       "      <td>4</td>\n",
       "      <td>96</td>\n",
       "      <td>1</td>\n",
       "      <td>1792</td>\n",
       "      <td>93952</td>\n",
       "      <td>False</td>\n",
       "      <td>0.0</td>\n",
       "      <td>6.2</td>\n",
       "      <td>0.80</td>\n",
       "      <td>0.13</td>\n",
       "      <td>0.85</td>\n",
       "      <td>False</td>\n",
       "      <td>1.003174</td>\n",
       "      <td>1.008174</td>\n",
       "      <td>1.008638</td>\n",
       "      <td>1.018607</td>\n",
       "      <td>1.006648</td>\n",
       "    </tr>\n",
       "    <tr>\n",
       "      <th>96000024320092288</th>\n",
       "      <td>96000024320092288</td>\n",
       "      <td>data/training/center_4/patient_096_node_1.tif</td>\n",
       "      <td>4</td>\n",
       "      <td>96</td>\n",
       "      <td>1</td>\n",
       "      <td>2432</td>\n",
       "      <td>92288</td>\n",
       "      <td>False</td>\n",
       "      <td>0.0</td>\n",
       "      <td>20.3</td>\n",
       "      <td>0.79</td>\n",
       "      <td>0.17</td>\n",
       "      <td>0.85</td>\n",
       "      <td>False</td>\n",
       "      <td>1.014113</td>\n",
       "      <td>1.010271</td>\n",
       "      <td>1.008419</td>\n",
       "      <td>1.013240</td>\n",
       "      <td>1.008967</td>\n",
       "    </tr>\n",
       "    <tr>\n",
       "      <th>96000023040092416</th>\n",
       "      <td>96000023040092416</td>\n",
       "      <td>data/training/center_4/patient_096_node_1.tif</td>\n",
       "      <td>4</td>\n",
       "      <td>96</td>\n",
       "      <td>1</td>\n",
       "      <td>2304</td>\n",
       "      <td>92416</td>\n",
       "      <td>False</td>\n",
       "      <td>0.0</td>\n",
       "      <td>20.7</td>\n",
       "      <td>0.79</td>\n",
       "      <td>0.17</td>\n",
       "      <td>0.85</td>\n",
       "      <td>False</td>\n",
       "      <td>1.012865</td>\n",
       "      <td>1.014684</td>\n",
       "      <td>1.022123</td>\n",
       "      <td>1.020902</td>\n",
       "      <td>1.023536</td>\n",
       "    </tr>\n",
       "    <tr>\n",
       "      <th>96000026880098176</th>\n",
       "      <td>96000026880098176</td>\n",
       "      <td>data/training/center_4/patient_096_node_1.tif</td>\n",
       "      <td>4</td>\n",
       "      <td>96</td>\n",
       "      <td>1</td>\n",
       "      <td>2688</td>\n",
       "      <td>98176</td>\n",
       "      <td>False</td>\n",
       "      <td>0.0</td>\n",
       "      <td>33.5</td>\n",
       "      <td>0.83</td>\n",
       "      <td>0.10</td>\n",
       "      <td>0.85</td>\n",
       "      <td>False</td>\n",
       "      <td>1.003224</td>\n",
       "      <td>1.004423</td>\n",
       "      <td>1.005396</td>\n",
       "      <td>1.002506</td>\n",
       "      <td>1.001100</td>\n",
       "    </tr>\n",
       "    <tr>\n",
       "      <th>96000028160098304</th>\n",
       "      <td>96000028160098304</td>\n",
       "      <td>data/training/center_4/patient_096_node_1.tif</td>\n",
       "      <td>4</td>\n",
       "      <td>96</td>\n",
       "      <td>1</td>\n",
       "      <td>2816</td>\n",
       "      <td>98304</td>\n",
       "      <td>False</td>\n",
       "      <td>0.0</td>\n",
       "      <td>32.0</td>\n",
       "      <td>0.85</td>\n",
       "      <td>0.10</td>\n",
       "      <td>0.83</td>\n",
       "      <td>False</td>\n",
       "      <td>1.002649</td>\n",
       "      <td>1.003623</td>\n",
       "      <td>1.003754</td>\n",
       "      <td>1.002639</td>\n",
       "      <td>1.001869</td>\n",
       "    </tr>\n",
       "  </tbody>\n",
       "</table>\n",
       "</div>"
      ],
      "text/plain": [
       "                             patchId  \\\n",
       "patchId                                \n",
       "96000017920093952  96000017920093952   \n",
       "96000024320092288  96000024320092288   \n",
       "96000023040092416  96000023040092416   \n",
       "96000026880098176  96000026880098176   \n",
       "96000028160098304  96000028160098304   \n",
       "\n",
       "                                                        fileName  center  \\\n",
       "patchId                                                                    \n",
       "96000017920093952  data/training/center_4/patient_096_node_1.tif       4   \n",
       "96000024320092288  data/training/center_4/patient_096_node_1.tif       4   \n",
       "96000023040092416  data/training/center_4/patient_096_node_1.tif       4   \n",
       "96000026880098176  data/training/center_4/patient_096_node_1.tif       4   \n",
       "96000028160098304  data/training/center_4/patient_096_node_1.tif       4   \n",
       "\n",
       "                   patient  node  centerX  centerY  isTumor  tumorPercentage  \\\n",
       "patchId                                                                        \n",
       "96000017920093952       96     1     1792    93952    False              0.0   \n",
       "96000024320092288       96     1     2432    92288    False              0.0   \n",
       "96000023040092416       96     1     2304    92416    False              0.0   \n",
       "96000026880098176       96     1     2688    98176    False              0.0   \n",
       "96000028160098304       96     1     2816    98304    False              0.0   \n",
       "\n",
       "                   tissuePercentage  meanHue  meanSaturation  meanValue  \\\n",
       "patchId                                                                   \n",
       "96000017920093952               6.2     0.80            0.13       0.85   \n",
       "96000024320092288              20.3     0.79            0.17       0.85   \n",
       "96000023040092416              20.7     0.79            0.17       0.85   \n",
       "96000026880098176              33.5     0.83            0.10       0.85   \n",
       "96000028160098304              32.0     0.85            0.10       0.83   \n",
       "\n",
       "                   tumorLabel  tumorProbs_0  tumorProbs_1  tumorProbs_2  \\\n",
       "patchId                                                                   \n",
       "96000017920093952       False      1.003174      1.008174      1.008638   \n",
       "96000024320092288       False      1.014113      1.010271      1.008419   \n",
       "96000023040092416       False      1.012865      1.014684      1.022123   \n",
       "96000026880098176       False      1.003224      1.004423      1.005396   \n",
       "96000028160098304       False      1.002649      1.003623      1.003754   \n",
       "\n",
       "                   tumorProbs_3  tumorProbs_4  \n",
       "patchId                                        \n",
       "96000017920093952      1.018607      1.006648  \n",
       "96000024320092288      1.013240      1.008967  \n",
       "96000023040092416      1.020902      1.023536  \n",
       "96000026880098176      1.002506      1.001100  \n",
       "96000028160098304      1.002639      1.001869  "
      ]
     },
     "execution_count": 15,
     "metadata": {},
     "output_type": "execute_result"
    }
   ],
   "source": [
    "df_inference = pd.read_csv('./data/test_inference/' + model_name + '_test' + '_center_4_inference.csv').set_index('patchId.1').set_index('patchId',drop=False)\n",
    "df_inference.head()"
   ]
  },
  {
   "cell_type": "markdown",
   "metadata": {},
   "source": [
    "Get patients"
   ]
  },
  {
   "cell_type": "code",
   "execution_count": 16,
   "metadata": {},
   "outputs": [],
   "source": [
    "all_patients = np.unique(df_inference.patient)"
   ]
  },
  {
   "cell_type": "markdown",
   "metadata": {},
   "source": [
    "Get all cancer slides (patient, node)"
   ]
  },
  {
   "cell_type": "code",
   "execution_count": 17,
   "metadata": {},
   "outputs": [],
   "source": [
    "cancer_slides = []\n",
    "for patient in all_patients:\n",
    "    for node in range(5):\n",
    "        df_sub = df_inference[df_inference.patient == patient]\n",
    "        df_sub = df_sub[df_sub.node == node]\n",
    "        if True in np.unique(df_sub.isTumor):\n",
    "            cancer_slides.append((patient,node))"
   ]
  },
  {
   "cell_type": "code",
   "execution_count": 18,
   "metadata": {},
   "outputs": [
    {
     "data": {
      "text/plain": [
       "[(81, 4), (88, 1), (99, 4)]"
      ]
     },
     "execution_count": 18,
     "metadata": {},
     "output_type": "execute_result"
    }
   ],
   "source": [
    "cancer_slides"
   ]
  },
  {
   "cell_type": "code",
   "execution_count": 21,
   "metadata": {},
   "outputs": [
    {
     "name": "stdout",
     "output_type": "stream",
     "text": [
      "Patient_81 node_4 auc: 0.8337865205147583\n",
      "Patient_88 node_1 auc: 0.8971417142625674\n",
      "Patient_99 node_4 auc: 0.9577871493608936\n"
     ]
    }
   ],
   "source": [
    "import sklearn\n",
    "from sklearn.metrics import roc_curve, auc\n",
    "\n",
    "patient_auc_arr = np.zeros((len(cancer_slides)*4,5),dtype=np.float64)\n",
    "patient_fprs = []\n",
    "patient_tprs = []\n",
    "patient_aucs = []\n",
    "y, prob = None,None\n",
    "for i,(patient,node) in enumerate(cancer_slides):\n",
    "    df_patient = df_inference[df_inference.patient == patient]\n",
    "    df_patient = df_patient[df_patient.node == node]\n",
    "    y = df_patient.isTumor.values.astype(int)\n",
    "    probs_list = []\n",
    "    # get individual tests\n",
    "    for test in range(5):\n",
    "        probs = df_patient['tumorProbs_' + str(test)].values\n",
    "        probs_list.append(probs)\n",
    "        fpr, tpr, thresholds = roc_curve(y, probs, pos_label=1)\n",
    "        roc_auc = sklearn.metrics.auc(fpr, tpr)\n",
    "        patient_auc_arr[i,test] = roc_auc\n",
    "    # get average of the tests\n",
    "    prob = np.mean(np.array(probs_list),axis=0)\n",
    "    fpr, tpr, thresholds = roc_curve(y, probs, pos_label=1)\n",
    "    patient_fprs.append(fpr)\n",
    "    patient_tprs.append(tpr)\n",
    "    roc_auc = sklearn.metrics.auc(fpr, tpr)\n",
    "    patient_aucs.append(roc_auc)\n",
    "    print('Patient_{0} node_{1} auc: {2}'.format(patient,node,roc_auc))"
   ]
  },
  {
   "cell_type": "code",
   "execution_count": 23,
   "metadata": {},
   "outputs": [
    {
     "name": "stdout",
     "output_type": "stream",
     "text": [
      "The average AUC of the patient 81 with models is 83.37865205147583 %.\n",
      "The average AUC of the patient 88 with models is 89.71417142625674 %.\n",
      "The average AUC of the patient 99 with models is 95.77871493608936 %.\n",
      "The average AUC of all tumor patients is 89.62384613794065 %\n",
      "The std (ddof=1) of AUC of all tumor patients is 6.20052488736837 %\n"
     ]
    }
   ],
   "source": [
    "for fold , auc in enumerate(patient_aucs):\n",
    "    print('The average AUC of the patient {1} with models is {0} %.'.format(auc*100, cancer_slides[fold][0]))\n",
    "print('The average AUC of all tumor patients is {0} %'.format(np.asarray(patient_aucs).mean()*100))\n",
    "print('The std (ddof=1) of AUC of all tumor patients is {0} %'.format(np.asarray(patient_aucs).std(ddof=1)*100))"
   ]
  },
  {
   "cell_type": "code",
   "execution_count": 24,
   "metadata": {},
   "outputs": [
    {
     "data": {
      "text/plain": [
       "<matplotlib.legend.Legend at 0x7f2702c282b0>"
      ]
     },
     "execution_count": 24,
     "metadata": {},
     "output_type": "execute_result"
    },
    {
     "data": {
      "image/png": "[encoded data removed]",
      "text/plain": [
       "<Figure size 432x288 with 1 Axes>"
      ]
     },
     "metadata": {
      "needs_background": "light"
     },
     "output_type": "display_data"
    }
   ],
   "source": [
    "plt.figure()\n",
    "color_str = ['darkorange', 'blueviolet', 'firebrick', 'steelblue', 'green']\n",
    "for i, f in enumerate(patient_fprs):\n",
    "    plt.plot(patient_fprs[i], patient_tprs[i], color=color_str[i], label='Patient %d (area = %0.2f)' % (cancer_slides[i][0], patient_aucs[i]))\n",
    "plt.plot([0, 1], [0, 1], color='navy', linestyle='--', label='random baseline (area = 0.5)')\n",
    "plt.xlim([-0.01, 1.0])\n",
    "plt.ylim([0.0, 1.01])\n",
    "plt.xlabel('False Positive Rate')\n",
    "plt.ylabel('True Positive Rate')\n",
    "plt.title('Receiver operating characteristic')\n",
    "plt.legend(loc=\"lower right\")"
   ]
  },
  {
   "cell_type": "markdown",
   "metadata": {},
   "source": [
    "# Heatmap"
   ]
  },
  {
   "cell_type": "code",
   "execution_count": 25,
   "metadata": {},
   "outputs": [],
   "source": [
    "# add ASAP path to sys to locate the multiresolutionimageinterface\n",
    "import sys\n",
    "sys.path.append('/opt/ASAP/bin')\n",
    "# required libraries\n",
    "import multiresolutionimageinterface as mir\n",
    "\n",
    "imagePaths = ['./data/training/center_4/patient_081_node_4.tif',\n",
    "             './data/training/center_4/patient_088_node_1.tif',\n",
    "             './data/training/center_4/patient_099_node_4.tif']\n",
    "maskPaths = [x.replace('.tif', '_mask.tif') for x in imagePaths]\n",
    "\n",
    "reader = mir.MultiResolutionImageReader()"
   ]
  },
  {
   "cell_type": "code",
   "execution_count": 36,
   "metadata": {},
   "outputs": [],
   "source": [
    "mr_image = reader.open(imagePaths[2])\n",
    "mr_mask = reader.open(maskPaths[2])"
   ]
  },
  {
   "cell_type": "code",
   "execution_count": 37,
   "metadata": {},
   "outputs": [],
   "source": [
    "def getSlide(slide, mask_level=5):\n",
    "    ds = slide.getLevelDownsample(mask_level)\n",
    "    original_tissue = slide.getUCharPatch(0,\n",
    "                                         0,\n",
    "                                         int(slide.getDimensions()[0] / float(ds)),\n",
    "                                         int(slide.getDimensions()[1] / float(ds)),\n",
    "                                         mask_level)\n",
    "    return original_tissue"
   ]
  },
  {
   "cell_type": "code",
   "execution_count": 80,
   "metadata": {},
   "outputs": [],
   "source": [
    "def getTrueMask(slide, mask_level=5):\n",
    "    ds = slide.getLevelDownsample(mask_level)\n",
    "    tumor_mask = slide.getUCharPatch(0,\n",
    "                                     0,\n",
    "                                     int(slide.getDimensions()[0] / float(ds)),\n",
    "                                     int(slide.getDimensions()[1] / float(ds)),\n",
    "                                     mask_level)\n",
    "    # convert to binary\n",
    "    tumor_mask = np.array(tumor_mask*255, np.uint8)\n",
    "    return tumor_mask.reshape(tumor_mask.shape[:2])"
   ]
  },
  {
   "cell_type": "code",
   "execution_count": 74,
   "metadata": {},
   "outputs": [],
   "source": [
    "def getTumorMask(width, height, patient, node, mask_level=5, threshold=0.5):\n",
    "    downsamp = pow(2,mask_level)\n",
    "    tumor = np.zeros((int(round(width/downsamp)), int(round(height/downsamp))), np.uint8)\n",
    "    half_window = int(round(256/(2*downsamp)))\n",
    "    \n",
    "    # five models each pixel can overlap with two windows\n",
    "    # This gives 10 possible additions per pixel. \n",
    "    # 255 is the max so each model can add a max of 25.5 -> ~25\n",
    "    df_sub = df_inference[df_inference.patient==patient]\n",
    "    df_sub = df_sub[df_sub.node==node]\n",
    "    for idx in tqdm_notebook(df_sub.index.values):\n",
    "        for test in range(5):\n",
    "            prob = int((df_sub.loc[idx]['tumorProbs_' + str(test)]/np.e) * 25)\n",
    "            centerX = int(round(df_sub.loc[idx]['centerX'] / downsamp))\n",
    "            centerY = int(round(df_sub.loc[idx]['centerY'] / downsamp))\n",
    "            tumor[centerX-half_window:centerX+half_window, centerY-half_window:centerY+half_window] += prob\n",
    "    median_kernel_sz = 15*5/mask_level\n",
    "    if median_kernel_sz % 2 == 0:\n",
    "        median_kernel_sz += 1\n",
    "    tumor = cv2.medianBlur(tumor, median_kernel_sz)\n",
    "    # threshold\n",
    "    if threshold is nodet None:\n",
    "        th = int(threshold*255)\n",
    "        tumoror = cv2.threshold(tumor, th, 255,cv2.THRESH_BINARY)\n",
    "    return tumor"
   ]
  },
  {
   "cell_type": "code",
   "execution_count": 65,
   "metadata": {},
   "outputs": [
    {
     "data": {
      "application/vnd.jupyter.widget-view+json": {
       "model_id": "b7bca6faa7ea4c69aba37bc981125b86",
       "version_major": 2,
       "version_minor": 0
      },
      "text/plain": [
       "HBox(children=(IntProgress(value=0, max=66184), HTML(value='')))"
      ]
     },
     "metadata": {},
     "output_type": "display_data"
    },
    {
     "name": "stdout",
     "output_type": "stream",
     "text": [
      "\n"
     ]
    }
   ],
   "source": [
    "tumor_pred_mask = getTumorMask(mr_image.getDimensions()[1],mr_image.getDimensions()[0], 99,4, 5)"
   ]
  },
  {
   "cell_type": "code",
   "execution_count": 86,
   "metadata": {},
   "outputs": [
    {
     "data": {
      "text/plain": [
       "<matplotlib.image.AxesImage at 0x7f24de5cf2e8>"
      ]
     },
     "execution_count": 86,
     "metadata": {},
     "output_type": "execute_result"
    },
    {
     "data": {
      "image/png": "[encoded data removed]",
      "text/plain": [
       "<Figure size 720x720 with 1 Axes>"
      ]
     },
     "metadata": {
      "needs_background": "light"
     },
     "output_type": "display_data"
    }
   ],
   "source": [
    "# median blur\n",
    "fig=plt.figure(figsize=(10, 10))\n",
    "plt.imshow(cv2.threshold(cv2.medianBlur(tumor_pred_mask, 15), 128, 255, cv2.THRESH_BINARY)[1])"
   ]
  },
  {
   "cell_type": "code",
   "execution_count": 81,
   "metadata": {},
   "outputs": [
    {
     "data": {
      "text/plain": [
       "<matplotlib.image.AxesImage at 0x7f2486e61dd8>"
      ]
     },
     "execution_count": 81,
     "metadata": {},
     "output_type": "execute_result"
    },
    {
     "data": {
      "image/png": "[encoded data removed]",
      "text/plain": [
       "<Figure size 432x288 with 1 Axes>"
      ]
     },
     "metadata": {
      "needs_background": "light"
     },
     "output_type": "display_data"
    }
   ],
   "source": [
    "plt.imshow(getTrueMask(mr_mask))"
   ]
  },
  {
   "cell_type": "code",
   "execution_count": 39,
   "metadata": {},
   "outputs": [
    {
     "data": {
      "text/plain": [
       "<matplotlib.image.AxesImage at 0x7f26ec353400>"
      ]
     },
     "execution_count": 39,
     "metadata": {},
     "output_type": "execute_result"
    },
    {
     "data": {
      "image/png": "[encoded data removed]",
      "text/plain": [
       "<Figure size 432x288 with 1 Axes>"
      ]
     },
     "metadata": {
      "needs_background": "light"
     },
     "output_type": "display_data"
    }
   ],
   "source": [
    "plt.imshow(getSlide(mr_image))"
   ]
  },
  {
   "cell_type": "code",
   "execution_count": 108,
   "metadata": {},
   "outputs": [],
   "source": []
  },
  {
   "cell_type": "code",
   "execution_count": null,
   "metadata": {},
   "outputs": [],
   "source": []
  }
 ],
 "metadata": {
  "kernelspec": {
   "display_name": "Python 3",
   "language": "python",
   "name": "python3"
  },
  "language_info": {
   "codemirror_mode": {
    "name": "ipython",
    "version": 3
   },
   "file_extension": ".py",
   "mimetype": "text/x-python",
   "name": "python",
   "nbconvert_exporter": "python",
   "pygments_lexer": "ipython3",
   "version": "3.6.8"
  }
 },
 "nbformat": 4,
 "nbformat_minor": 2
}
