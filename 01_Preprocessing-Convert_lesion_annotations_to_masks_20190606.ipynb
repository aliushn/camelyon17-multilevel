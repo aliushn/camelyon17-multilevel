{
 "cells": [
  {
   "cell_type": "markdown",
   "metadata": {},
   "source": [
    "#### This notebook preprocesses all annotation files to annotation tif masks.\n",
    "> Note: Can be run again if more data is added. Already creted mask files are skipped.\n",
    "\n",
    "---------------------\n",
    "\n",
    "# Dependencies\n",
    "\n",
    "This notebook uses the [ASAP](https://github.com/computationalpathologygroup/ASAP/releases) 1.8 package for reading large tif files and annotations. [OpenSlide](https://openslide.org/download/) is also required as a dependency."
   ]
  },
  {
   "cell_type": "code",
   "execution_count": 1,
   "metadata": {},
   "outputs": [],
   "source": [
    "# add ASAP path to sys to locate the multiresolutionimageinterface\n",
    "import sys\n",
    "sys.path.append('/opt/ASAP/bin')"
   ]
  },
  {
   "cell_type": "code",
   "execution_count": 2,
   "metadata": {},
   "outputs": [],
   "source": [
    "# import other necessary libraries\n",
    "import multiresolutionimageinterface as mir\n",
    "import cv2\n",
    "from tqdm import tqdm_notebook\n",
    "import os"
   ]
  },
  {
   "cell_type": "code",
   "execution_count": 3,
   "metadata": {},
   "outputs": [],
   "source": [
    "reader = mir.MultiResolutionImageReader()\n",
    "annotation_list = mir.AnnotationList()\n",
    "xml_repository = mir.XmlRepository(annotation_list)"
   ]
  },
  {
   "cell_type": "markdown",
   "metadata": {},
   "source": [
    "**Data and annotation directories**\n",
    "> Note: Check that these are correct."
   ]
  },
  {
   "cell_type": "code",
   "execution_count": 4,
   "metadata": {},
   "outputs": [],
   "source": [
    "dirAnnotations = 'data/annotations/'\n",
    "dirData = 'data/training/'"
   ]
  },
  {
   "cell_type": "markdown",
   "metadata": {},
   "source": [
    "Get a list of tif image files. These are in different folders like 'center_0', 'center_1', etc."
   ]
  },
  {
   "cell_type": "code",
   "execution_count": 5,
   "metadata": {},
   "outputs": [],
   "source": [
    "ImageFiles = []\n",
    "# r=root, d=directories, f = files\n",
    "for r, d, f in os.walk(dirData):\n",
    "    for file in f:\n",
    "        if '.tif' in file and 'mask' not in file:\n",
    "            ImageFiles.append(os.path.join(r, file))"
   ]
  },
  {
   "cell_type": "markdown",
   "metadata": {},
   "source": [
    "This creates an annotation TIF mask out of annotation polygon file."
   ]
  },
  {
   "cell_type": "code",
   "execution_count": 6,
   "metadata": {},
   "outputs": [],
   "source": [
    "def CreateAnnotationMask(annotationPath):\n",
    "    \n",
    "    # get only the name without dir or file suffix\n",
    "    fileNamePart = annotationPath.replace('.xml','').replace(dirAnnotations, \"\")\n",
    "    \n",
    "    # what is the corresponding tif file - directories may vary so search from the list\n",
    "    tifName = fileNamePart + '.tif'\n",
    "    partialMatches = [s for s in ImageFiles if tifName in s]\n",
    "    if len(partialMatches) == 0:\n",
    "        print('Warning - This file is missing from the file list: {0} - skipping.'.format(tifName))\n",
    "        return\n",
    "    tifPath = partialMatches[0]\n",
    "    \n",
    "    # skip if tif file is not found\n",
    "    if (not os.path.isfile(tifPath)): \n",
    "        print('Warning - Could not locate {0} - skipping this annotation file.'.format(tifPath))\n",
    "        return\n",
    "    \n",
    "    # Skip if this mask is already found\n",
    "    maskPath = tifPath.replace('.tif', '_mask.tif')\n",
    "    if (os.path.isfile(maskPath)):\n",
    "        print('Info - Mask file of {0} already exists - skipping'.format(tifPath))\n",
    "        return\n",
    "    \n",
    "    # create mask\n",
    "    xml_repository.setSource(annotationPath)\n",
    "    xml_repository.load()\n",
    "    annotation_mask = mir.AnnotationToMask()\n",
    "    mr_image = reader.open(tifPath)\n",
    "    if(mr_image is None):\n",
    "        print('Warning - Could not read {0} - skipping'.format(tifPath))\n",
    "        return\n",
    "    label_map = {'metastases': 1, 'normal': 2}\n",
    "    conversion_order = ['metastases', 'normal']\n",
    "    annotation_mask.convert(annotation_list, \n",
    "                            maskPath, \n",
    "                            mr_image.getDimensions(), \n",
    "                            mr_image.getSpacing(), \n",
    "                            label_map, \n",
    "                            conversion_order)"
   ]
  },
  {
   "cell_type": "markdown",
   "metadata": {},
   "source": [
    "Collect all annotation files"
   ]
  },
  {
   "cell_type": "code",
   "execution_count": 7,
   "metadata": {},
   "outputs": [],
   "source": [
    "AnnotationFiles = []\n",
    "# r=root, d=directories, f = files\n",
    "for r, d, f in os.walk(dirAnnotations):\n",
    "    for file in f:\n",
    "        if '.xml' in file:\n",
    "            AnnotationFiles.append(os.path.join(r, file))"
   ]
  },
  {
   "cell_type": "markdown",
   "metadata": {},
   "source": [
    "> Note: This may take hours. You may run this notebook in the background over night."
   ]
  },
  {
   "cell_type": "code",
   "execution_count": 8,
   "metadata": {},
   "outputs": [
    {
     "data": {
      "application/vnd.jupyter.widget-view+json": {
       "model_id": "c1121fe5fcb4429f875ca1cb4b44193e",
       "version_major": 2,
       "version_minor": 0
      },
      "text/plain": [
       "HBox(children=(IntProgress(value=0, description='Creating masks...', max=50, style=ProgressStyle(description_w…"
      ]
     },
     "metadata": {},
     "output_type": "display_data"
    },
    {
     "name": "stdout",
     "output_type": "stream",
     "text": [
      "Annotation file: data/annotations/patient_004_node_4.xml\n",
      "Info - Mask file of data/training/center_0/patient_004_node_4.tif already exists - skipping\n",
      "Annotation file: data/annotations/patient_009_node_1.xml\n",
      "Info - Mask file of data/training/center_0/patient_009_node_1.tif already exists - skipping\n",
      "Annotation file: data/annotations/patient_010_node_4.xml\n",
      "Info - Mask file of data/training/center_0/patient_010_node_4.tif already exists - skipping\n",
      "Annotation file: data/annotations/patient_012_node_0.xml\n",
      "Info - Mask file of data/training/center_0/patient_012_node_0.tif already exists - skipping\n",
      "Annotation file: data/annotations/patient_015_node_1.xml\n",
      "Info - Mask file of data/training/center_0/patient_015_node_1.tif already exists - skipping\n",
      "Annotation file: data/annotations/patient_015_node_2.xml\n",
      "Info - Mask file of data/training/center_0/patient_015_node_2.tif already exists - skipping\n",
      "Annotation file: data/annotations/patient_016_node_1.xml\n",
      "Info - Mask file of data/training/center_0/patient_016_node_1.tif already exists - skipping\n",
      "Annotation file: data/annotations/patient_017_node_1.xml\n",
      "Info - Mask file of data/training/center_0/patient_017_node_1.tif already exists - skipping\n",
      "Annotation file: data/annotations/patient_017_node_2.xml\n",
      "Info - Mask file of data/training/center_0/patient_017_node_2.tif already exists - skipping\n",
      "Annotation file: data/annotations/patient_017_node_4.xml\n",
      "Info - Mask file of data/training/center_0/patient_017_node_4.tif already exists - skipping\n",
      "Annotation file: data/annotations/patient_020_node_2.xml\n",
      "Info - Mask file of data/training/center_1/patient_020_node_2.tif already exists - skipping\n",
      "Annotation file: data/annotations/patient_020_node_4.xml\n",
      "Info - Mask file of data/training/center_1/patient_020_node_4.tif already exists - skipping\n",
      "Annotation file: data/annotations/patient_021_node_3.xml\n",
      "Info - Mask file of data/training/center_1/patient_021_node_3.tif already exists - skipping\n",
      "Annotation file: data/annotations/patient_022_node_4.xml\n",
      "Info - Mask file of data/training/center_1/patient_022_node_4.tif already exists - skipping\n",
      "Annotation file: data/annotations/patient_024_node_1.xml\n",
      "Info - Mask file of data/training/center_1/patient_024_node_1.tif already exists - skipping\n",
      "Annotation file: data/annotations/patient_024_node_2.xml\n",
      "Info - Mask file of data/training/center_1/patient_024_node_2.tif already exists - skipping\n",
      "Annotation file: data/annotations/patient_034_node_3.xml\n",
      "Info - Mask file of data/training/center_1/patient_034_node_3.tif already exists - skipping\n",
      "Annotation file: data/annotations/patient_036_node_3.xml\n",
      "Info - Mask file of data/training/center_1/patient_036_node_3.tif already exists - skipping\n",
      "Annotation file: data/annotations/patient_038_node_2.xml\n",
      "Info - Mask file of data/training/center_1/patient_038_node_2.tif already exists - skipping\n",
      "Annotation file: data/annotations/patient_039_node_1.xml\n",
      "Info - Mask file of data/training/center_1/patient_039_node_1.tif already exists - skipping\n",
      "Annotation file: data/annotations/patient_040_node_2.xml\n",
      "Info - Mask file of data/training/center_2/patient_040_node_2.tif already exists - skipping\n",
      "Annotation file: data/annotations/patient_041_node_0.xml\n",
      "Info - Mask file of data/training/center_2/patient_041_node_0.tif already exists - skipping\n",
      "Annotation file: data/annotations/patient_042_node_3.xml\n",
      "Info - Mask file of data/training/center_2/patient_042_node_3.tif already exists - skipping\n",
      "Annotation file: data/annotations/patient_044_node_4.xml\n",
      "Info - Mask file of data/training/center_2/patient_044_node_4.tif already exists - skipping\n",
      "Annotation file: data/annotations/patient_045_node_1.xml\n",
      "Info - Mask file of data/training/center_2/patient_045_node_1.tif already exists - skipping\n",
      "Annotation file: data/annotations/patient_046_node_3.xml\n",
      "Info - Mask file of data/training/center_2/patient_046_node_3.tif already exists - skipping\n",
      "Annotation file: data/annotations/patient_046_node_4.xml\n",
      "Info - Mask file of data/training/center_2/patient_046_node_4.tif already exists - skipping\n",
      "Annotation file: data/annotations/patient_048_node_1.xml\n",
      "Info - Mask file of data/training/center_2/patient_048_node_1.tif already exists - skipping\n",
      "Annotation file: data/annotations/patient_051_node_2.xml\n",
      "Info - Mask file of data/training/center_2/patient_051_node_2.tif already exists - skipping\n",
      "Annotation file: data/annotations/patient_052_node_1.xml\n",
      "Info - Mask file of data/training/center_2/patient_052_node_1.tif already exists - skipping\n",
      "Annotation file: data/annotations/patient_060_node_3.xml\n",
      "Info - Mask file of data/training/center_3/patient_060_node_3.tif already exists - skipping\n",
      "Annotation file: data/annotations/patient_061_node_4.xml\n",
      "Info - Mask file of data/training/center_3/patient_061_node_4.tif already exists - skipping\n",
      "Annotation file: data/annotations/patient_062_node_2.xml\n",
      "Info - Mask file of data/training/center_3/patient_062_node_2.tif already exists - skipping\n",
      "Annotation file: data/annotations/patient_064_node_0.xml\n",
      "Info - Mask file of data/training/center_3/patient_064_node_0.tif already exists - skipping\n",
      "Annotation file: data/annotations/patient_066_node_2.xml\n",
      "Info - Mask file of data/training/center_3/patient_066_node_2.tif already exists - skipping\n",
      "Annotation file: data/annotations/patient_067_node_4.xml\n",
      "Info - Mask file of data/training/center_3/patient_067_node_4.tif already exists - skipping\n",
      "Annotation file: data/annotations/patient_068_node_1.xml\n",
      "Info - Mask file of data/training/center_3/patient_068_node_1.tif already exists - skipping\n",
      "Annotation file: data/annotations/patient_072_node_0.xml\n",
      "Info - Mask file of data/training/center_3/patient_072_node_0.tif already exists - skipping\n",
      "Annotation file: data/annotations/patient_073_node_1.xml\n",
      "Info - Mask file of data/training/center_3/patient_073_node_1.tif already exists - skipping\n",
      "Annotation file: data/annotations/patient_075_node_4.xml\n",
      "Info - Mask file of data/training/center_3/patient_075_node_4.tif already exists - skipping\n",
      "Annotation file: data/annotations/patient_080_node_1.xml\n",
      "Annotation file: data/annotations/patient_081_node_4.xml\n",
      "Annotation file: data/annotations/patient_086_node_0.xml\n",
      "Annotation file: data/annotations/patient_086_node_4.xml\n",
      "Annotation file: data/annotations/patient_087_node_0.xml\n",
      "Annotation file: data/annotations/patient_088_node_1.xml\n",
      "Annotation file: data/annotations/patient_089_node_3.xml\n",
      "Annotation file: data/annotations/patient_092_node_1.xml\n",
      "Annotation file: data/annotations/patient_096_node_0.xml\n",
      "Annotation file: data/annotations/patient_099_node_4.xml\n",
      "\n"
     ]
    }
   ],
   "source": [
    "for f in tqdm_notebook(AnnotationFiles, 'Creating masks...'):\n",
    "    print('Annotation file: ' + f)\n",
    "    CreateAnnotationMask(f)"
   ]
  },
  {
   "cell_type": "code",
   "execution_count": null,
   "metadata": {},
   "outputs": [],
   "source": []
  }
 ],
 "metadata": {
  "kernelspec": {
   "display_name": "Python 3",
   "language": "python",
   "name": "python3"
  },
  "language_info": {
   "codemirror_mode": {
    "name": "ipython",
    "version": 3
   },
   "file_extension": ".py",
   "mimetype": "text/x-python",
   "name": "python",
   "nbconvert_exporter": "python",
   "pygments_lexer": "ipython3",
   "version": "3.6.8"
  }
 },
 "nbformat": 4,
 "nbformat_minor": 2
}
