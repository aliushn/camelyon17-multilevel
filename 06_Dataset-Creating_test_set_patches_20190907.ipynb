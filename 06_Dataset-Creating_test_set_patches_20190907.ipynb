{
 "cells": [
  {
   "cell_type": "markdown",
   "metadata": {},
   "source": [
    "**This notebook creates image patches from all of the test set (center 4) samples. No 50/50 normal/tumor sampling.**"
   ]
  },
  {
   "cell_type": "code",
   "execution_count": 1,
   "metadata": {},
   "outputs": [],
   "source": [
    "# add ASAP path to sys to locate the multiresolutionimageinterface\n",
    "import sys\n",
    "sys.path.append('/opt/ASAP/bin')\n",
    "# required libraries\n",
    "import multiresolutionimageinterface as mir\n",
    "import matplotlib.pyplot as plt\n",
    "import cv2\n",
    "import numpy as np\n",
    "import pandas as pd\n",
    "import os\n",
    "from tqdm import tqdm_notebook"
   ]
  },
  {
   "cell_type": "code",
   "execution_count": 2,
   "metadata": {},
   "outputs": [],
   "source": [
    "# Image size\n",
    "sz = 256\n",
    "# Levels to sample\n",
    "levels = [0,2]"
   ]
  },
  {
   "cell_type": "code",
   "execution_count": 3,
   "metadata": {},
   "outputs": [
    {
     "data": {
      "text/plain": [
       "2143729"
      ]
     },
     "execution_count": 3,
     "metadata": {},
     "output_type": "execute_result"
    }
   ],
   "source": [
    "# directory to save patches\n",
    "dirPatches = 'data/test_patches/'\n",
    "\n",
    "df = pd.read_csv('data/training/center_4.csv').set_index('Unnamed: 0')\n",
    "len(df)"
   ]
  },
  {
   "cell_type": "markdown",
   "metadata": {},
   "source": [
    "When making pathes, it is faster to process all patches from one WSI at the time, so we should loop over each WSI."
   ]
  },
  {
   "cell_type": "code",
   "execution_count": 12,
   "metadata": {},
   "outputs": [
    {
     "data": {
      "text/plain": [
       "100"
      ]
     },
     "execution_count": 12,
     "metadata": {},
     "output_type": "execute_result"
    }
   ],
   "source": [
    "dirData = 'data/training/'\n",
    "ImageFiles = []\n",
    "# r=root, d=directories, f = files\n",
    "for r, d, f in os.walk(dirData):\n",
    "    for file in f:\n",
    "        if '.tif' in file and 'mask' not in file:\n",
    "            split = r.split('/')\n",
    "            cnt = int(split[2].strip('center_'))\n",
    "            if(cnt == 4):\n",
    "                ImageFiles.append(os.path.join(r, file))\n",
    "len(ImageFiles)"
   ]
  },
  {
   "cell_type": "code",
   "execution_count": 13,
   "metadata": {},
   "outputs": [],
   "source": [
    "def getSamples(mr_image, x_cent, y_cent, levels=[0,3]):\n",
    "    channels = 3\n",
    "    imgs = np.zeros((len(levels), sz, sz, channels), dtype=np.uint8)\n",
    "    for i, lev in enumerate(levels):\n",
    "        ds = mr_image.getLevelDownsample(lev)\n",
    "        imgs[i] = mr_image.getUCharPatch(int(x_cent - (ds*sz/2)),\n",
    "                                         int(y_cent - (ds*sz/2)),\n",
    "                                         sz,\n",
    "                                         sz,\n",
    "                                         lev)\n",
    "    return imgs"
   ]
  },
  {
   "cell_type": "code",
   "execution_count": 14,
   "metadata": {},
   "outputs": [
    {
     "data": {
      "application/vnd.jupyter.widget-view+json": {
       "model_id": "f4063dd51c204f1c83d051b90e128da3",
       "version_major": 2,
       "version_minor": 0
      },
      "text/plain": [
       "HBox(children=(IntProgress(value=0, description=\"Patches from WSI's\", style=ProgressStyle(description_width='i…"
      ]
     },
     "metadata": {},
     "output_type": "display_data"
    }
   ],
   "source": [
    "for WSI in tqdm_notebook(ImageFiles, \"Patches from WSI's\"):\n",
    "    # extract patient and node from the WSI path\n",
    "    split = WSI.split('/')\n",
    "    cnt = int(split[2].strip('center_'))\n",
    "    if cnt != 4:\n",
    "        continue\n",
    "    splitpatient = split[3].split('_')\n",
    "    patient = int(splitpatient[1])\n",
    "    node = int(splitpatient[3].strip('.tif'))\n",
    "    \n",
    "    # then, subsample the df to get only pathes from this WSI\n",
    "    df_sub = df[(df.patient == patient) & (df.node == node)]\n",
    "    \n",
    "    # load WSI image\n",
    "    reader = mir.MultiResolutionImageReader()\n",
    "    mr_image = reader.open(WSI)\n",
    "    \n",
    "    for i in range(len(df_sub)):\n",
    "        id = str(df_sub.iloc[i].patchId)\n",
    "        fileNamePrefix = dirPatches + id\n",
    "        \n",
    "        center_x = df_sub.iloc[i].centerX\n",
    "        center_y = df_sub.iloc[i].centerY\n",
    "        \n",
    "        # note the flipped order of x and y\n",
    "        imgs = getSamples(mr_image, center_y, center_x, levels)\n",
    "        for lev_index, img in enumerate(imgs):\n",
    "            fileName = fileNamePrefix + '_' + str(levels[lev_index]) + '.png'\n",
    "            cv2.imwrite(fileName, img)"
   ]
  },
  {
   "cell_type": "code",
   "execution_count": 15,
   "metadata": {},
   "outputs": [
    {
     "data": {
      "text/plain": [
       "<matplotlib.image.AxesImage at 0x7f662be667f0>"
      ]
     },
     "execution_count": 15,
     "metadata": {},
     "output_type": "execute_result"
    },
    {
     "data": {
      "image/png": "[encoded data removed]",
      "text/plain": [
       "<Figure size 432x288 with 1 Axes>"
      ]
     },
     "metadata": {
      "needs_background": "light"
     },
     "output_type": "display_data"
    }
   ],
   "source": [
    "test_image = cv2.imread('./data/test_patches/80000021760079744_2.png')\n",
    "plt.imshow(test_image)"
   ]
  },
  {
   "cell_type": "code",
   "execution_count": null,
   "metadata": {},
   "outputs": [],
   "source": []
  },
  {
   "cell_type": "code",
   "execution_count": null,
   "metadata": {},
   "outputs": [],
   "source": []
  }
 ],
 "metadata": {
  "kernelspec": {
   "display_name": "Python 3",
   "language": "python",
   "name": "python3"
  },
  "language_info": {
   "codemirror_mode": {
    "name": "ipython",
    "version": 3
   },
   "file_extension": ".py",
   "mimetype": "text/x-python",
   "name": "python",
   "nbconvert_exporter": "python",
   "pygments_lexer": "ipython3",
   "version": "3.6.8"
  }
 },
 "nbformat": 4,
 "nbformat_minor": 2
}
